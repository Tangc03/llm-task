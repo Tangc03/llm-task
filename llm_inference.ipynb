{
 "cells": [
  {
   "cell_type": "code",
   "execution_count": 1,
   "id": "c9e42818-80ae-4916-82c1-54d98249ce5a",
   "metadata": {},
   "outputs": [],
   "source": [
    "import os, io\n",
    "import json\n",
    "import torch\n",
    "from torch.utils.data import Dataset, DataLoader\n",
    "from PIL import Image\n",
    "import pyarrow.parquet as pq\n",
    "import pandas as pd\n",
    "import glob\n",
    "import tqdm\n",
    "from torchvision import transforms\n",
    "\n",
    "os.environ['HF_ENDPOINT'] = 'https://hf-mirror.com'\n",
    "\n",
    "# set gpu id\n",
    "os.environ['CUDA_VISIBLE_DEVICES'] = '0'"
   ]
  },
  {
   "cell_type": "markdown",
   "id": "7f155aaa-315b-4f5f-9138-64bf2a712ff3",
   "metadata": {},
   "source": [
    "### Data Loading Class for GSM8K"
   ]
  },
  {
   "cell_type": "code",
   "execution_count": 2,
   "id": "df774be7-96e2-4b52-8fa7-d3a1400c9f91",
   "metadata": {},
   "outputs": [],
   "source": [
    "class GSM8KDataset(Dataset):\n",
    "    def __init__(self, split):\n",
    "        root = \"datasets/grade_school_math/data\"\n",
    "        file_path = os.path.join(root, f\"{split}.jsonl\")\n",
    "        with open(file_path, 'r') as f:\n",
    "            self.data = [json.loads(line) for line in f]\n",
    "        print(f\"Loaded {len(self.data)} examples.\")\n",
    "\n",
    "    def __len__(self):\n",
    "        return len(self.data)\n",
    "\n",
    "    def __getitem__(self, idx):\n",
    "        item = self.data[idx]\n",
    "        return {\n",
    "            \"question\": item[\"question\"],\n",
    "            \"answer\": item[\"answer\"]\n",
    "        }\n",
    "\n",
    "def gsm8k_dataloader(batch_size=32, split=\"train\"):\n",
    "    dataset = GSM8KDataset(split)\n",
    "    return DataLoader(dataset, batch_size=batch_size, shuffle=(split == \"train\"))"
   ]
  },
  {
   "cell_type": "markdown",
   "id": "a9fb69d5-56c0-47fb-8c50-39488a5069e1",
   "metadata": {},
   "source": [
    "### Qwen2-1.5B Inference"
   ]
  },
  {
   "cell_type": "code",
   "execution_count": 3,
   "id": "e75945c6",
   "metadata": {},
   "outputs": [
    {
     "name": "stderr",
     "output_type": "stream",
     "text": [
      "/home/tc/anaconda3/envs/vllm/lib/python3.10/site-packages/tqdm/auto.py:21: TqdmWarning: IProgress not found. Please update jupyter and ipywidgets. See https://ipywidgets.readthedocs.io/en/stable/user_install.html\n",
      "  from .autonotebook import tqdm as notebook_tqdm\n"
     ]
    }
   ],
   "source": [
    "import os, json\n",
    "import time\n",
    "import torch\n",
    "from transformers import AutoTokenizer, AutoModelForCausalLM\n",
    "import logging\n",
    "os.environ['HF_ENDPOINT'] = 'https://hf-mirror.com'\n",
    "\n",
    "logging.getLogger(\"transformers\").setLevel(logging.ERROR)"
   ]
  },
  {
   "cell_type": "code",
   "execution_count": 4,
   "id": "3aa6bb46-a31f-48a4-80d6-f66f3ebc8b68",
   "metadata": {},
   "outputs": [],
   "source": [
    "def load_qwen_model():\n",
    "    model_path = \"checkpoints/Qwen2-1.5B\"\n",
    "    print(f\"Attempting to load model from local path: {model_path}\")\n",
    "    \n",
    "    try:\n",
    "        tokenizer = AutoTokenizer.from_pretrained(model_path, trust_remote_code=True)\n",
    "        device = torch.device(\"cuda\" if torch.cuda.is_available() else \"cpu\")\n",
    "        model = AutoModelForCausalLM.from_pretrained(model_path, trust_remote_code=True).to(device)\n",
    "\n",
    "    except Exception as e:\n",
    "        print(f\"Error loading model or tokenizer: {e}\")\n",
    "        raise\n",
    "    \n",
    "    return model, tokenizer, device\n",
    "\n",
    "def llm_inference():\n",
    "    model, tokenizer, device = load_qwen_model()\n",
    "    dataloader = gsm8k_dataloader(batch_size=32, split=\"test\")\n",
    "    total_samples = len(dataloader)\n",
    "    \n",
    "    results = []\n",
    "    process_single_sample = False\n",
    "    \n",
    "    for i, batch in enumerate(tqdm.tqdm(dataloader)):        \n",
    "        question = batch[\"question\"][0]\n",
    "        print(f\"  Question: {question[:50]}...\")\n",
    "        \n",
    "        prompt = f\"Question: {question}\\nAnswer:\"\n",
    "        inputs = tokenizer(prompt, return_tensors=\"pt\").to(device)\n",
    "        \n",
    "        try:\n",
    "            with torch.no_grad():\n",
    "                outputs = model.generate(**inputs, max_new_tokens=50, max_time=30,\n",
    "                                         num_return_sequences=1, do_sample=True, \n",
    "                                         temperature=0.7, top_p=0.95,\n",
    "                                         pad_token_id=tokenizer.eos_token_id)\n",
    "            \n",
    "            generated_text = tokenizer.decode(outputs[0], skip_special_tokens=True)\n",
    "            answer = generated_text.split(\"Answer:\")[-1].strip()\n",
    "            print(f\"  Answer generated: {answer[:50]}...\")\n",
    "        except Exception as e:\n",
    "            print(f\"  Error generating answer: {str(e)}\")\n",
    "            answer = \"Error: Failed to generate answer\"\n",
    "        \n",
    "        results.append({\n",
    "            \"question\": question,\n",
    "            \"generated answer\": answer,\n",
    "            \"ground truth\": batch[\"answer\"][0]\n",
    "        })\n",
    "        \n",
    "        torch.cuda.empty_cache()  \n",
    "        \n",
    "        if process_single_sample:\n",
    "            break \n",
    "    \n",
    "    return results"
   ]
  },
  {
   "cell_type": "code",
   "execution_count": 5,
   "id": "ff995c47",
   "metadata": {},
   "outputs": [
    {
     "name": "stdout",
     "output_type": "stream",
     "text": [
      "Attempting to load model from local path: checkpoints/Qwen2-1.5B\n",
      "Loaded 1319 examples.\n"
     ]
    },
    {
     "name": "stderr",
     "output_type": "stream",
     "text": [
      "  0%|          | 0/42 [00:00<?, ?it/s]"
     ]
    },
    {
     "name": "stdout",
     "output_type": "stream",
     "text": [
      "  Question: Janet’s ducks lay 16 eggs per day. She eats three ...\n"
     ]
    },
    {
     "name": "stderr",
     "output_type": "stream",
     "text": [
      "  2%|▏         | 1/42 [00:02<01:28,  2.15s/it]"
     ]
    },
    {
     "name": "stdout",
     "output_type": "stream",
     "text": [
      "  Answer generated: ```python\n",
      "def daily_earnings():\n",
      "    \"\"\"Janet’s duc...\n",
      "  Question: John takes care of 10 dogs.  Each dog takes .5 hou...\n"
     ]
    },
    {
     "name": "stderr",
     "output_type": "stream",
     "text": [
      "  5%|▍         | 2/42 [00:03<00:58,  1.46s/it]"
     ]
    },
    {
     "name": "stdout",
     "output_type": "stream",
     "text": [
      "  Answer generated: ```python\n",
      "def total_hours_spent():\n",
      "    \"\"\"John tak...\n",
      "  Question: Sophia is thinking of taking a road trip in her ca...\n"
     ]
    },
    {
     "name": "stderr",
     "output_type": "stream",
     "text": [
      "  7%|▋         | 3/42 [00:04<00:48,  1.25s/it]"
     ]
    },
    {
     "name": "stdout",
     "output_type": "stream",
     "text": [
      "  Answer generated: ```python\n",
      "def miles_per_tank():\n",
      "    \"\"\"Sophia is t...\n",
      "  Question: Harry slept 9 hours last night. His friend James s...\n"
     ]
    },
    {
     "name": "stderr",
     "output_type": "stream",
     "text": [
      " 10%|▉         | 4/42 [00:05<00:43,  1.14s/it]"
     ]
    },
    {
     "name": "stdout",
     "output_type": "stream",
     "text": [
      "  Answer generated: ```python\n",
      "from sympy import *\n",
      "\n",
      "# Harry's sleep tim...\n",
      "  Question: Well's mother sells watermelons, peppers, and oran...\n"
     ]
    },
    {
     "name": "stderr",
     "output_type": "stream",
     "text": [
      " 12%|█▏        | 5/42 [00:06<00:40,  1.09s/it]"
     ]
    },
    {
     "name": "stdout",
     "output_type": "stream",
     "text": [
      "  Answer generated: ```python\n",
      "def total_cost():\n",
      "    \"\"\"Well's mother s...\n",
      "  Question: A tank of water has a depth of 17 feet on Monday. ...\n"
     ]
    },
    {
     "name": "stderr",
     "output_type": "stream",
     "text": [
      " 14%|█▍        | 6/42 [00:07<00:37,  1.05s/it]"
     ]
    },
    {
     "name": "stdout",
     "output_type": "stream",
     "text": [
      "  Answer generated: ```python\n",
      "from sympy import *\n",
      "\n",
      "# Define the variab...\n",
      "  Question: Tom plants 10 trees a year.  Every year he also ch...\n"
     ]
    },
    {
     "name": "stderr",
     "output_type": "stream",
     "text": [
      " 17%|█▋        | 7/42 [00:08<00:36,  1.03s/it]"
     ]
    },
    {
     "name": "stdout",
     "output_type": "stream",
     "text": [
      "  Answer generated: ```python\n",
      "initial_number_of_trees = 50\n",
      "trees_plant...\n",
      "  Question: Carlos and Benji are at the beach. Carlos rents a ...\n"
     ]
    },
    {
     "name": "stderr",
     "output_type": "stream",
     "text": [
      " 19%|█▉        | 8/42 [00:09<00:34,  1.01s/it]"
     ]
    },
    {
     "name": "stdout",
     "output_type": "stream",
     "text": [
      "  Answer generated: ```python\n",
      "def total_rental_cost():\n",
      "    \"\"\"Carlos a...\n",
      "  Question: Brady is counting the money in his piggy bank. He ...\n"
     ]
    },
    {
     "name": "stderr",
     "output_type": "stream",
     "text": [
      " 21%|██▏       | 9/42 [00:10<00:33,  1.00s/it]"
     ]
    },
    {
     "name": "stdout",
     "output_type": "stream",
     "text": [
      "  Answer generated: ```python\n",
      "pennies = 100\n",
      "nickels = 40\n",
      "dimes = 20\n",
      "do...\n",
      "  Question: A landscaping company is delivering flagstones to ...\n"
     ]
    },
    {
     "name": "stderr",
     "output_type": "stream",
     "text": [
      " 24%|██▍       | 10/42 [00:11<00:31,  1.00it/s]"
     ]
    },
    {
     "name": "stdout",
     "output_type": "stream",
     "text": [
      "  Answer generated: The total weight of 80 flagstones is 80*75 = 6000 ...\n",
      "  Question: At the beginning of the party, there were 25 men a...\n"
     ]
    },
    {
     "name": "stderr",
     "output_type": "stream",
     "text": [
      " 26%|██▌       | 11/42 [00:11<00:30,  1.01it/s]"
     ]
    },
    {
     "name": "stdout",
     "output_type": "stream",
     "text": [
      "  Answer generated: ```python\n",
      "from sympy import *\n",
      "\n",
      "# Define the initia...\n",
      "  Question: After Andrea saved some money, she then spent the ...\n"
     ]
    },
    {
     "name": "stderr",
     "output_type": "stream",
     "text": [
      " 29%|██▊       | 12/42 [00:12<00:29,  1.01it/s]"
     ]
    },
    {
     "name": "stdout",
     "output_type": "stream",
     "text": [
      "  Answer generated: ```python\n",
      "def money_saved():\n",
      "    \"\"\"After Andrea s...\n",
      "  Question: Mr. Ruther sold 3/5 of his land and had 12.8 hecta...\n"
     ]
    },
    {
     "name": "stderr",
     "output_type": "stream",
     "text": [
      " 31%|███       | 13/42 [00:13<00:28,  1.01it/s]"
     ]
    },
    {
     "name": "stdout",
     "output_type": "stream",
     "text": [
      "  Answer generated: Mr. Ruther sold 3/5 of his land, so he had 1 - 3/5...\n",
      "  Question: A herd consists of camels and dromedaries. There a...\n"
     ]
    },
    {
     "name": "stderr",
     "output_type": "stream",
     "text": [
      " 33%|███▎      | 14/42 [00:14<00:27,  1.02it/s]"
     ]
    },
    {
     "name": "stdout",
     "output_type": "stream",
     "text": [
      "  Answer generated: ```python\n",
      "from sympy import symbols, Eq, solve\n",
      "\n",
      "# ...\n",
      "  Question: A salesman bought a case of 48 sneakers for $576. ...\n"
     ]
    },
    {
     "name": "stderr",
     "output_type": "stream",
     "text": [
      " 36%|███▌      | 15/42 [00:15<00:26,  1.02it/s]"
     ]
    },
    {
     "name": "stdout",
     "output_type": "stream",
     "text": [
      "  Answer generated: ```python\n",
      "# profit is total revenue minus total co...\n",
      "  Question: Ben has 4 tubes of blue paint and 3 tubes of yello...\n"
     ]
    },
    {
     "name": "stderr",
     "output_type": "stream",
     "text": [
      " 38%|███▊      | 16/42 [00:16<00:25,  1.02it/s]"
     ]
    },
    {
     "name": "stdout",
     "output_type": "stream",
     "text": [
      "  Answer generated: ```python\n",
      "def jasper_paint_tubes():\n",
      "    \"\"\"Ben has...\n",
      "  Question: Hannah needs to drink 60 ml of water for each kilo...\n"
     ]
    },
    {
     "name": "stderr",
     "output_type": "stream",
     "text": [
      " 40%|████      | 17/42 [00:17<00:24,  1.02it/s]"
     ]
    },
    {
     "name": "stdout",
     "output_type": "stream",
     "text": [
      "  Answer generated: Each lap is 0.25 km, so 8 laps are 8*0.25 = 2 km.\n",
      "...\n",
      "  Question: Jeff and Brad are trying to divide 100 dollars bet...\n"
     ]
    },
    {
     "name": "stderr",
     "output_type": "stream",
     "text": [
      " 43%|████▎     | 18/42 [00:18<00:23,  1.02it/s]"
     ]
    },
    {
     "name": "stdout",
     "output_type": "stream",
     "text": [
      "  Answer generated: Let's solve this problem using Python's sympy libr...\n",
      "  Question: Michael is replacing the carpet in his bedroom.  T...\n"
     ]
    },
    {
     "name": "stderr",
     "output_type": "stream",
     "text": [
      " 45%|████▌     | 19/42 [00:19<00:22,  1.02it/s]"
     ]
    },
    {
     "name": "stdout",
     "output_type": "stream",
     "text": [
      "  Answer generated: The cost for removing the old carpet is $4 per squ...\n",
      "  Question: Joe has $50 to buy an outfit for his new field tri...\n"
     ]
    },
    {
     "name": "stderr",
     "output_type": "stream",
     "text": [
      " 48%|████▊     | 20/42 [00:20<00:21,  1.02it/s]"
     ]
    },
    {
     "name": "stdout",
     "output_type": "stream",
     "text": [
      "  Answer generated: ```python\n",
      "from sympy import *\n",
      "\n",
      "# Define the variab...\n",
      "  Question: Bill is ordering a new truck. He has decided to pu...\n"
     ]
    },
    {
     "name": "stderr",
     "output_type": "stream",
     "text": [
      " 50%|█████     | 21/42 [00:21<00:20,  1.01it/s]"
     ]
    },
    {
     "name": "stdout",
     "output_type": "stream",
     "text": [
      "  Answer generated: ```python\n",
      "# base price\n",
      "base_price = 30000\n",
      "# king c...\n",
      "  Question: Christina records her mood every day on a calendar...\n"
     ]
    },
    {
     "name": "stderr",
     "output_type": "stream",
     "text": [
      " 52%|█████▏    | 22/42 [00:22<00:19,  1.01it/s]"
     ]
    },
    {
     "name": "stdout",
     "output_type": "stream",
     "text": [
      "  Answer generated: ```python\n",
      "from sympy import *\n",
      "\n",
      "# Define the number...\n",
      "  Question: Gerald and Julia divided $100 in the ratio 3:2. If...\n"
     ]
    },
    {
     "name": "stderr",
     "output_type": "stream",
     "text": [
      " 55%|█████▍    | 23/42 [00:23<00:18,  1.02it/s]"
     ]
    },
    {
     "name": "stdout",
     "output_type": "stream",
     "text": [
      "  Answer generated: ```python\n",
      "def money_left():\n",
      "    \"\"\"Gerald and Juli...\n",
      "  Question: Boris has 100 apples. Beck has 23 fewer apples tha...\n"
     ]
    },
    {
     "name": "stderr",
     "output_type": "stream",
     "text": [
      " 57%|█████▋    | 24/42 [00:24<00:17,  1.02it/s]"
     ]
    },
    {
     "name": "stdout",
     "output_type": "stream",
     "text": [
      "  Answer generated: ```python\n",
      "def apple_difference():\n",
      "    \"\"\"Boris has...\n",
      "  Question: In one hour, Ezra read twice as many books as Ahme...\n"
     ]
    },
    {
     "name": "stderr",
     "output_type": "stream",
     "text": [
      " 60%|█████▉    | 25/42 [00:25<00:16,  1.02it/s]"
     ]
    },
    {
     "name": "stdout",
     "output_type": "stream",
     "text": [
      "  Answer generated: ```python\n",
      "from sympy import *\n",
      "\n",
      "# Define the variab...\n",
      "  Question: Pierson scored 278 points in one game of bowling. ...\n"
     ]
    },
    {
     "name": "stderr",
     "output_type": "stream",
     "text": [
      " 62%|██████▏   | 26/42 [00:26<00:15,  1.02it/s]"
     ]
    },
    {
     "name": "stdout",
     "output_type": "stream",
     "text": [
      "  Answer generated: ```python\n",
      "def total_points():\n",
      "    \"\"\"Pierson score...\n",
      "  Question: Roy has saved 40% more in money earned by chores t...\n"
     ]
    },
    {
     "name": "stderr",
     "output_type": "stream",
     "text": [
      " 64%|██████▍   | 27/42 [00:27<00:14,  1.02it/s]"
     ]
    },
    {
     "name": "stdout",
     "output_type": "stream",
     "text": [
      "  Answer generated: ```python\n",
      "def money_saved_by_roy():\n",
      "    \"\"\"Roy has...\n",
      "  Question: George, a grade six teacher, ordered 600 burritos ...\n"
     ]
    },
    {
     "name": "stderr",
     "output_type": "stream",
     "text": [
      " 67%|██████▋   | 28/42 [00:28<00:13,  1.02it/s]"
     ]
    },
    {
     "name": "stdout",
     "output_type": "stream",
     "text": [
      "  Answer generated: ```python\n",
      "# 600 burritos for 50 students\n",
      "number_of...\n",
      "  Question: John rents his car out 10 times a month for 3 hour...\n"
     ]
    },
    {
     "name": "stderr",
     "output_type": "stream",
     "text": [
      " 69%|██████▉   | 29/42 [00:29<00:12,  1.02it/s]"
     ]
    },
    {
     "name": "stdout",
     "output_type": "stream",
     "text": [
      "  Answer generated: ```python\n",
      "def calculate_profit():\n",
      "    \"\"\"John rent...\n",
      "  Question: Rita hand-picks Junebugs off of her plants every s...\n"
     ]
    },
    {
     "name": "stderr",
     "output_type": "stream",
     "text": [
      " 71%|███████▏  | 30/42 [00:30<00:11,  1.02it/s]"
     ]
    },
    {
     "name": "stdout",
     "output_type": "stream",
     "text": [
      "  Answer generated: ```python\n",
      "junebugs_removed_on_monday = 39\n",
      "junebugs...\n",
      "  Question: A pirate crew is digging for buried treasure on th...\n"
     ]
    },
    {
     "name": "stderr",
     "output_type": "stream",
     "text": [
      " 74%|███████▍  | 31/42 [00:31<00:10,  1.02it/s]"
     ]
    },
    {
     "name": "stdout",
     "output_type": "stream",
     "text": [
      "  Answer generated: ```python\n",
      "def holes_dug_on_fourth_day():\n",
      "    \"\"\"A ...\n",
      "  Question: Buford writes many checks every year.  Once per mo...\n"
     ]
    },
    {
     "name": "stderr",
     "output_type": "stream",
     "text": [
      " 76%|███████▌  | 32/42 [00:32<00:09,  1.02it/s]"
     ]
    },
    {
     "name": "stdout",
     "output_type": "stream",
     "text": [
      "  Answer generated: ```python\n",
      "def total_checks():\n",
      "    \"\"\"Buford writes...\n",
      "  Question: Suzanne sold 80 cookies for $1 each and 60 cupcake...\n"
     ]
    },
    {
     "name": "stderr",
     "output_type": "stream",
     "text": [
      " 79%|███████▊  | 33/42 [00:33<00:08,  1.02it/s]"
     ]
    },
    {
     "name": "stdout",
     "output_type": "stream",
     "text": [
      "  Answer generated: ```python\n",
      "number_of_cookies = 80\n",
      "price_per_cookie ...\n",
      "  Question: Greg puts clean sheets on 4 twin beds and 1 king s...\n"
     ]
    },
    {
     "name": "stderr",
     "output_type": "stream",
     "text": [
      " 81%|████████  | 34/42 [00:34<00:07,  1.02it/s]"
     ]
    },
    {
     "name": "stdout",
     "output_type": "stream",
     "text": [
      "  Answer generated: ```python\n",
      "def total_laundry_loads():\n",
      "    \"\"\"Greg p...\n",
      "  Question: There are 6 periods in the day for a normal studen...\n"
     ]
    },
    {
     "name": "stderr",
     "output_type": "stream",
     "text": [
      " 83%|████████▎ | 35/42 [00:35<00:06,  1.02it/s]"
     ]
    },
    {
     "name": "stdout",
     "output_type": "stream",
     "text": [
      "  Answer generated: ```python\n",
      "def total_learning_time():\n",
      "    \"\"\"There ...\n",
      "  Question: John visits his parents twice a month.  It takes h...\n"
     ]
    },
    {
     "name": "stderr",
     "output_type": "stream",
     "text": [
      " 86%|████████▌ | 36/42 [00:36<00:05,  1.02it/s]"
     ]
    },
    {
     "name": "stdout",
     "output_type": "stream",
     "text": [
      "  Answer generated: ```python\n",
      "def miles_driven():\n",
      "    \"\"\"John visits h...\n",
      "  Question: Mark buys one lottery ticket with a 20% chance of ...\n"
     ]
    },
    {
     "name": "stderr",
     "output_type": "stream",
     "text": [
      " 88%|████████▊ | 37/42 [00:37<00:04,  1.02it/s]"
     ]
    },
    {
     "name": "stdout",
     "output_type": "stream",
     "text": [
      "  Answer generated: The probability of Mark winning the first ticket i...\n",
      "  Question: To heat during the winter, Ali ordered 850 kilos o...\n"
     ]
    },
    {
     "name": "stderr",
     "output_type": "stream",
     "text": [
      " 90%|█████████ | 38/42 [00:38<00:03,  1.02it/s]"
     ]
    },
    {
     "name": "stdout",
     "output_type": "stream",
     "text": [
      "  Answer generated: Ali ordered 850 kilos of coal, and each bag contai...\n",
      "  Question: A bus has a capacity of 200 people. When it depart...\n"
     ]
    },
    {
     "name": "stderr",
     "output_type": "stream",
     "text": [
      " 93%|█████████▎| 39/42 [00:39<00:02,  1.02it/s]"
     ]
    },
    {
     "name": "stdout",
     "output_type": "stream",
     "text": [
      "  Answer generated: ```python\n",
      "def remaining_capacity():\n",
      "    \"\"\"A bus h...\n",
      "  Question: Jason works as a salesperson at a car dealership. ...\n"
     ]
    },
    {
     "name": "stderr",
     "output_type": "stream",
     "text": [
      " 95%|█████████▌| 40/42 [00:40<00:01,  1.01it/s]"
     ]
    },
    {
     "name": "stdout",
     "output_type": "stream",
     "text": [
      "  Answer generated: ```python\n",
      "def telephone_calls_needed():\n",
      "    \"\"\"Jas...\n",
      "  Question: Steve put together a puzzle that took 10 hours of ...\n"
     ]
    },
    {
     "name": "stderr",
     "output_type": "stream",
     "text": [
      " 98%|█████████▊| 41/42 [00:41<00:00,  1.02it/s]"
     ]
    },
    {
     "name": "stdout",
     "output_type": "stream",
     "text": [
      "  Answer generated: ```python\n",
      "from sympy import *\n",
      "\n",
      "# Define the variab...\n",
      "  Question: Tom's restaurant gets 6 reservations a night.  The...\n"
     ]
    },
    {
     "name": "stderr",
     "output_type": "stream",
     "text": [
      "100%|██████████| 42/42 [00:42<00:00,  1.01s/it]"
     ]
    },
    {
     "name": "stdout",
     "output_type": "stream",
     "text": [
      "  Answer generated: ```python\n",
      "# each reservation gets 2 meals\n",
      "meals_pe...\n",
      "Processed 42 questions from GSM8K dataset\n",
      "Results saved to results/llm_inference_results.json\n"
     ]
    },
    {
     "name": "stderr",
     "output_type": "stream",
     "text": [
      "\n"
     ]
    }
   ],
   "source": [
    "results = llm_inference()\n",
    "print(f\"Processed {len(results)} questions from GSM8K dataset\")\n",
    "\n",
    "# Save results to a json file\n",
    "output_file = \"results/llm_inference_results.json\"\n",
    "if not os.path.exists(\"results\"):\n",
    "    os.makedirs(\"results\")\n",
    "\n",
    "with open(output_file, 'w') as f:\n",
    "    json.dump(results, f, indent=4)\n",
    "print(f\"Results saved to {output_file}\")"
   ]
  }
 ],
 "metadata": {
  "kernelspec": {
   "display_name": "vllm",
   "language": "python",
   "name": "python3"
  },
  "language_info": {
   "codemirror_mode": {
    "name": "ipython",
    "version": 3
   },
   "file_extension": ".py",
   "mimetype": "text/x-python",
   "name": "python",
   "nbconvert_exporter": "python",
   "pygments_lexer": "ipython3",
   "version": "3.10.16"
  }
 },
 "nbformat": 4,
 "nbformat_minor": 5
}
